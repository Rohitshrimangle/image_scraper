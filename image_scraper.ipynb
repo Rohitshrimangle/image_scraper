{
 "cells": [
  {
   "cell_type": "code",
   "execution_count": 54,
   "id": "5a27dd3e-8305-4404-980d-a6368ee7d4f8",
   "metadata": {},
   "outputs": [],
   "source": [
    "import requests\n",
    "import logging\n",
    "import os\n",
    "from bs4 import BeautifulSoup\n",
    "from urllib.request import urlopen\n",
    "from urllib.parse import urljoin"
   ]
  },
  {
   "cell_type": "code",
   "execution_count": 84,
   "id": "7359a3bb-5202-4c0c-ab95-faa9fdf96bcb",
   "metadata": {},
   "outputs": [],
   "source": [
    "save_dir='images/'\n",
    "if not os.path.exists(save_dir):\n",
    "    os.makedirs(save_dir)"
   ]
  },
  {
   "cell_type": "code",
   "execution_count": 124,
   "id": "7cd8a90a-215e-4f70-baf7-7ed66aed16dd",
   "metadata": {},
   "outputs": [],
   "source": [
    "query='MS Dhoni'\n",
    "#url=https://www.google.com/search?sca_esv=0ea72c185f263238&sca_upv=1&rlz=1C1CHBF_enIN1044IN1044&sxsrf=ACQVn0-xroJAUQpntN3jbYfMpDDyGBhe9Q:1709787383492&q=elon+musk&tbm=isch&source=lnms&sa=X&sqi=2&ved=2ahUKEwjIromtruGEAxUX1DgGHfJTAZAQ0pQJegQIDhAB&biw=767&bih=694&dpr=1.25"
   ]
  },
  {
   "cell_type": "code",
   "execution_count": 125,
   "id": "6181bbbe-029e-41e7-bf8f-60d2d7281cfa",
   "metadata": {},
   "outputs": [],
   "source": [
    "response=requests.get(f\"https://www.google.com/search?sca_esv=8cd23cecb428a702&sca_upv=1&rlz=1C1CHBF_enIN1044IN1044&sxsrf=ACQVn08q_FGBdDn2rzjI056zd0nNUMZTIw:1709794170198&q={query}&tbm=isch&source=lnms&sa=X&ved=2ahUKEwjXgp3Rx-GEAxUYi2MGHb6CAGIQ0pQJegQIDxAB&biw=767&bih=694&dpr=1.25\")"
   ]
  },
  {
   "cell_type": "code",
   "execution_count": 126,
   "id": "716e1831-85c7-44a4-862a-eccb798fb54b",
   "metadata": {},
   "outputs": [
    {
     "data": {
      "text/plain": [
       "<Response [200]>"
      ]
     },
     "execution_count": 126,
     "metadata": {},
     "output_type": "execute_result"
    }
   ],
   "source": [
    "response"
   ]
  },
  {
   "cell_type": "code",
   "execution_count": 127,
   "id": "3e87c2c7-3500-4ea3-a582-ae968006bcfa",
   "metadata": {},
   "outputs": [],
   "source": [
    "soup=BeautifulSoup(response.content,\"html.parser\")"
   ]
  },
  {
   "cell_type": "code",
   "execution_count": 128,
   "id": "cbe7b300-ffb7-4dfa-8981-cd8d0be13923",
   "metadata": {},
   "outputs": [
    {
     "data": {
      "text/plain": [
       "<!DOCTYPE html PUBLIC \"-//WAPFORUM//DTD XHTML Mobile 1.0//EN\" \"http://www.wapforum.org/DTD/xhtml-mobile10.dtd\">\n",
       "<html lang=\"en-IN\" xmlns=\"http://www.w3.org/1999/xhtml\"><head><meta content=\"application/xhtml+xml; charset=utf-8\" http-equiv=\"Content-Type\"/><meta content=\"no-cache\" name=\"Cache-Control\"/><title>MS Dhoni - Google Search</title><style>a{text-decoration:none;color:inherit}a:hover{text-decoration:underline}a img{border:0}body{font-family:arial,sans-serif;padding:8px;margin:0 auto;max-width:700px;min-width:240px;}.FbhRzb{border-left:thin solid #dadce0;border-right:thin solid #dadce0;border-top:thin solid #dadce0;height:40px;overflow:hidden}.n692Zd{margin-bottom:10px}.cvifge{height:40px;border-spacing:0}.QvGUP{height:40px;padding:0 8px 0 8px;vertical-align:top}.O4cRJf{height:40px;width:100%;padding:0;padding-right:16px}.O1ePr{height:40px;padding:0;vertical-align:top}.kgJEQe{height:36px;width:98px;vertical-align:top;margin-top:4px}.lXLRf{vertical-align:top}.MhzMZd{border:0;vertical-align:middle;font-size:14px;height:40px;padding:0;width:100%;padding-left:16px}.xB0fq{height:40px;border:none;font-size:14px;background-color:#1a73e8;color:#fff;padding:0 16px;margin:0;vertical-align:top;cursor:pointer}.xB0fq:focus{border:1px solid #1a73e8}.M7pB2{border:thin solid #dadce0;margin:0 0 3px 0;font-size:13px;font-weight:500;height:40px}.euZec{width:100%;height:40px;text-align:center;border-spacing:0}table.euZec td{padding:0;width:25%}.QIqI7{display:inline-block;padding-top:4px;font-weight:bold;color:#4285f4}.EY24We{border-bottom:2px solid #4285f4}.CsQyDc{display:inline-block;color:#70757a}.TuS8Ad{font-size:14px}.HddGcc{padding:8px;color:#70757a}.dzp8ae{font-weight:bold;color:#3c4043}.rEM8G{color:#70757a}.bookcf{table-layout:fixed;width:100%;border-spacing:0}.InWNIe{text-align:center}.uZgmoc{border:thin solid #dadce0;color:#70757a;font-size:14px;text-align:center;table-layout:fixed;width:100%}.frGj1b{display:block;padding:12px 0 12px 0;width:100%}.BnJWBc{text-align:center;padding:6px 0 13px 0;height:35px}.e3goi{vertical-align:top;padding:0;height:180px}.GpQGbf{margin:auto;border-collapse:collapse;border-spacing:0;width:100%}</style></head><body><style>.X6ZCif{color:#202124;font-size:11px;line-height:16px;display:inline-block;padding-top:2px;overflow:hidden;padding-bottom:4px;width:100%}.TwVfHd{border-radius:16px;border:thin solid #dadce0;display:inline-block;padding:8px 8px;margin-right:8px;margin-bottom:4px}.yekiAe{background-color:#dadce0}.jjVJ4e{width:100%}.ezO2md{border:thin solid #dadce0;padding:12px 16px 12px 16px;margin-bottom:10px;font-family:arial,sans-serif}.lIMUZd{font-family:arial,sans-serif}.RntSmf{border-spacing:0}.lgD2Tc{width:100%}.SpelHe{text-align:center}.SpelHe{position:relative}.kCmkOe{position:relative}.kCmkOe{width:162px;height:140px;line-height:140px;overflow:'hidden';text-align:center}.DS1iW{text-align:center;margin:auto;vertical-align:middle;max-width:162px;max-height:140px}.AlD19d{padding-top:2px;padding-bottom:8px;}.fYyStc{word-break:break-word}.ynsChf{display:block;white-space:nowrap;overflow:hidden;text-overflow:ellipsis}.Fj3V3b{color:#1967d2;font-size:14px;line-height:20px}.FrIlee{color:#202124;font-size:11px;line-height:16px}.F9iS2e{color:#70757a;font-size:11px;line-height:16px}.WMQ2Le{color:#70757a;font-size:12px;line-height:16px}.x3G5ab{color:#202124;font-size:12px;line-height:16px}.fuLhoc{color:#1967d2;font-size:16px;line-height:20px}.epoveb{font-size:24px;line-height:28px;font-weight:400;color:#202124}.dXDvrc{color:#0d652d;font-size:14px;line-height:20px;word-wrap:break-word}.dloBPe{font-weight:bold}.YVIcad{color:#70757a}.JkVVdd{color:#ea4335}.oXZRFd{color:#ea4335}.MQHtg{color:#fbbc04}.pyMRrb{color:#1e8e3e}.EtTZid{color:#1e8e3e}.M3vVJe{color:#1967d2}.qXLe6d{display:block}.NHQNef{font-style:italic}.Cb8Z7c{white-space:pre}a.ZWRArf{text-decoration:none}a .CVA68e:hover{text-decoration:underline}</style><div class=\"n692Zd\"><div class=\"BnJWBc\"><a class=\"lXLRf\" href=\"/?sa=X&amp;sca_esv=8cd23cecb428a702&amp;sca_upv=1&amp;rlz=1C1CHBF_enIN1044IN1044&amp;biw=767&amp;bih=694&amp;output=images&amp;ie=UTF-8&amp;tbm=isch&amp;ved=0ahUKEwj0xtnGyOGEAxXSRmcHHRVoBuwQPAgC\"><img alt=\"Google\" class=\"kgJEQe\" src=\"/images/branding/searchlogo/1x/googlelogo_desk_heirloom_color_150x55dp.gif\"/></a></div><div class=\"FbhRzb\"><form action=\"/search\"><input name=\"sca_esv\" type=\"hidden\" value=\"8cd23cecb428a702\"/><input name=\"sca_upv\" type=\"hidden\" value=\"1\"/><input name=\"rlz\" type=\"hidden\" value=\"1C1CHBF_enIN1044IN1044\"/><input name=\"biw\" type=\"hidden\" value=\"767\"/><input name=\"bih\" type=\"hidden\" value=\"694\"/><input name=\"ie\" type=\"hidden\" value=\"ISO-8859-1\"/><input name=\"tbm\" type=\"hidden\" value=\"isch\"/><input name=\"oq\" type=\"hidden\"/><input name=\"aqs\" type=\"hidden\"/><table class=\"cvifge\"><tr><td class=\"O4cRJf\"><input class=\"MhzMZd\" name=\"q\" type=\"text\" value=\"MS Dhoni\"/></td><td class=\"O1ePr\"><input class=\"xB0fq\" type=\"submit\" value=\"Search\"/></td></tr></table></form></div><div class=\"M7pB2\"><table class=\"euZec\"><tbody><tr><td><a class=\"CsQyDc\" href=\"/search?q=MS+Dhoni&amp;sca_esv=8cd23cecb428a702&amp;sca_upv=1&amp;rlz=1C1CHBF_enIN1044IN1044&amp;biw=767&amp;bih=694&amp;ie=UTF-8&amp;source=lnms&amp;sa=X&amp;ved=0ahUKEwj0xtnGyOGEAxXSRmcHHRVoBuwQ_AUIBCgA\">ALL</a></td><td><a class=\"CsQyDc\" href=\"/search?q=MS+Dhoni&amp;sca_esv=8cd23cecb428a702&amp;sca_upv=1&amp;rlz=1C1CHBF_enIN1044IN1044&amp;biw=767&amp;bih=694&amp;ie=UTF-8&amp;tbm=nws&amp;source=lnms&amp;sa=X&amp;ved=0ahUKEwj0xtnGyOGEAxXSRmcHHRVoBuwQ_AUIBSgB\">NEWS</a></td><td class=\"EY24We\"><span class=\"QIqI7\">IMAGES</span></td><td><a class=\"CsQyDc\" href=\"/search?q=MS+Dhoni&amp;sca_esv=8cd23cecb428a702&amp;sca_upv=1&amp;rlz=1C1CHBF_enIN1044IN1044&amp;biw=767&amp;bih=694&amp;ie=UTF-8&amp;tbm=vid&amp;source=lnms&amp;sa=X&amp;ved=0ahUKEwj0xtnGyOGEAxXSRmcHHRVoBuwQ_AUIBygD\">VIDEOS</a></td></tr></tbody></table></div></div><div class=\"X6ZCif\"><a class=\"TwVfHd\" href=\"/search?sca_esv=8cd23cecb428a702&amp;sca_upv=1&amp;rlz=1C1CHBF_enIN1044IN1044&amp;biw=767&amp;bih=694&amp;ie=UTF-8&amp;tbm=isch&amp;q=MS+Dhoni&amp;chips=q:ms+dhoni,g_1:wallpaper&amp;sa=X&amp;ved=0ahUKEwj0xtnGyOGEAxXSRmcHHRVoBuwQ4lYICygA\">wallpaper</a><a class=\"TwVfHd\" href=\"/search?sca_esv=8cd23cecb428a702&amp;sca_upv=1&amp;rlz=1C1CHBF_enIN1044IN1044&amp;biw=767&amp;bih=694&amp;ie=UTF-8&amp;tbm=isch&amp;q=MS+Dhoni&amp;chips=q:ms+dhoni,g_1:world+cup&amp;sa=X&amp;ved=0ahUKEwj0xtnGyOGEAxXSRmcHHRVoBuwQ4lYIDCgB\">world cup</a><a class=\"TwVfHd\" href=\"/search?sca_esv=8cd23cecb428a702&amp;sca_upv=1&amp;rlz=1C1CHBF_enIN1044IN1044&amp;biw=767&amp;bih=694&amp;ie=UTF-8&amp;tbm=isch&amp;q=MS+Dhoni&amp;chips=q:ms+dhoni,g_1:csk&amp;sa=X&amp;ved=0ahUKEwj0xtnGyOGEAxXSRmcHHRVoBuwQ4lYIDSgC\">csk</a><a class=\"TwVfHd\" href=\"/search?sca_esv=8cd23cecb428a702&amp;sca_upv=1&amp;rlz=1C1CHBF_enIN1044IN1044&amp;biw=767&amp;bih=694&amp;ie=UTF-8&amp;tbm=isch&amp;q=MS+Dhoni&amp;chips=q:ms+dhoni,g_1:hairstyle&amp;sa=X&amp;ved=0ahUKEwj0xtnGyOGEAxXSRmcHHRVoBuwQ4lYIDigD\">hairstyle</a><a class=\"TwVfHd\" href=\"/search?sca_esv=8cd23cecb428a702&amp;sca_upv=1&amp;rlz=1C1CHBF_enIN1044IN1044&amp;biw=767&amp;bih=694&amp;ie=UTF-8&amp;tbm=isch&amp;q=MS+Dhoni&amp;chips=q:ms+dhoni,g_1:drawing&amp;sa=X&amp;ved=0ahUKEwj0xtnGyOGEAxXSRmcHHRVoBuwQ4lYIDygE\">drawing</a><a class=\"TwVfHd\" href=\"/search?sca_esv=8cd23cecb428a702&amp;sca_upv=1&amp;rlz=1C1CHBF_enIN1044IN1044&amp;biw=767&amp;bih=694&amp;ie=UTF-8&amp;tbm=isch&amp;q=MS+Dhoni&amp;chips=q:ms+dhoni,g_1:profile&amp;sa=X&amp;ved=0ahUKEwj0xtnGyOGEAxXSRmcHHRVoBuwQ4lYIECgF\">profile</a><a class=\"TwVfHd\" href=\"/search?sca_esv=8cd23cecb428a702&amp;sca_upv=1&amp;rlz=1C1CHBF_enIN1044IN1044&amp;biw=767&amp;bih=694&amp;ie=UTF-8&amp;tbm=isch&amp;q=MS+Dhoni&amp;chips=q:ms+dhoni,g_1:ipl&amp;sa=X&amp;ved=0ahUKEwj0xtnGyOGEAxXSRmcHHRVoBuwQ4lYIESgG\">ipl</a><a class=\"TwVfHd\" href=\"/search?sca_esv=8cd23cecb428a702&amp;sca_upv=1&amp;rlz=1C1CHBF_enIN1044IN1044&amp;biw=767&amp;bih=694&amp;ie=UTF-8&amp;tbm=isch&amp;q=MS+Dhoni&amp;chips=q:ms+dhoni,g_1:birthday&amp;sa=X&amp;ved=0ahUKEwj0xtnGyOGEAxXSRmcHHRVoBuwQ4lYIEigH\">birthday</a><a class=\"TwVfHd\" href=\"/search?sca_esv=8cd23cecb428a702&amp;sca_upv=1&amp;rlz=1C1CHBF_enIN1044IN1044&amp;biw=767&amp;bih=694&amp;ie=UTF-8&amp;tbm=isch&amp;q=MS+Dhoni&amp;chips=q:ms+dhoni,g_1:style&amp;sa=X&amp;ved=0ahUKEwj0xtnGyOGEAxXSRmcHHRVoBuwQ4lYIEygI\">style</a><a class=\"TwVfHd\" href=\"/search?sca_esv=8cd23cecb428a702&amp;sca_upv=1&amp;rlz=1C1CHBF_enIN1044IN1044&amp;biw=767&amp;bih=694&amp;ie=UTF-8&amp;tbm=isch&amp;q=MS+Dhoni&amp;chips=q:ms+dhoni,g_1:trophy&amp;sa=X&amp;ved=0ahUKEwj0xtnGyOGEAxXSRmcHHRVoBuwQ4lYIFCgJ\">trophy</a></div><div><table class=\"GpQGbf\"><tr><td align=\"center\" class=\"e3goi\"><div class=\"jjVJ4e\"> <div> <div class=\"lIMUZd\"><div><table class=\"RntSmf\"><tr><td><a href=\"/url?q=https://www.livemint.com/sports/cricket-news/ms-dhoni-teases-new-role-ahead-of-ipl-2024-cant-wait-for-the-new-season-11709635722463.html&amp;sa=U&amp;ved=2ahUKEwj0xtnGyOGEAxXSRmcHHRVoBuwQqoUBegQIARAB&amp;usg=AOvVaw3fjKvG_bA0wO8lqSJ46PUJ\"><div class=\"kCmkOe\"><img alt=\"\" class=\"DS1iW\" src=\"https://encrypted-tbn0.gstatic.com/images?q=tbn:ANd9GcRwC1Lj-3m7AvUpNc0ZfKeS-aipn4wL0n9ZbUaDPEeMgHkcOs0TtWSBw5CPr7A&amp;s\"/></div></a></td></tr><tr><td><a href=\"/url?q=https://www.livemint.com/sports/cricket-news/ms-dhoni-teases-new-role-ahead-of-ipl-2024-cant-wait-for-the-new-season-11709635722463.html&amp;sa=U&amp;ved=2ahUKEwj0xtnGyOGEAxXSRmcHHRVoBuwQr4kDegQIARAC&amp;usg=AOvVaw2Sl0K_zGYMQ50MTzAqehSr\"><div class=\"AlD19d\"> <span class=\"qXLe6d x3G5ab\"> <span class=\"fYyStc\">MS Dhoni teases 'new role'...</span> </span> <span class=\"qXLe6d F9iS2e\"> <span class=\"fYyStc\">www.livemint.com</span> </span> </div></a></td></tr></table></div></div> </div> </div></td><td align=\"center\" class=\"e3goi\"><div class=\"jjVJ4e\"> <div> <div class=\"lIMUZd\"><div><table class=\"RntSmf\"><tr><td><a href=\"/url?q=https://www.firstpost.com/firstcricket/sports-news/ms-dhoni-chennai-super-kings-ipl-2024-13745104.html&amp;sa=U&amp;ved=2ahUKEwj0xtnGyOGEAxXSRmcHHRVoBuwQqoUBegQIEhAB&amp;usg=AOvVaw27x1eSKfUjqIA7FV3gmjAx\"><div class=\"kCmkOe\"><img alt=\"\" class=\"DS1iW\" src=\"https://encrypted-tbn0.gstatic.com/images?q=tbn:ANd9GcRxmTiObV3ac7JuBHpTS_AHih0G63PGqHHj6NMEoBY3KIhmGZB3J3VQVOCZiEg&amp;s\"/></div></a></td></tr><tr><td><a href=\"/url?q=https://www.firstpost.com/firstcricket/sports-news/ms-dhoni-chennai-super-kings-ipl-2024-13745104.html&amp;sa=U&amp;ved=2ahUKEwj0xtnGyOGEAxXSRmcHHRVoBuwQr4kDegQIEhAC&amp;usg=AOvVaw2cvAZH5P17lHzcDL0W_6Qj\"><div class=\"AlD19d\"> <span class=\"qXLe6d x3G5ab\"> <span class=\"fYyStc\">MS Dhoni hints at 'new...</span> </span> <span class=\"qXLe6d F9iS2e\"> <span class=\"fYyStc\">www.firstpost.com</span> </span> </div></a></td></tr></table></div></div> </div> </div></td><td align=\"center\" class=\"e3goi\"><div class=\"jjVJ4e\"> <div> <div class=\"lIMUZd\"><div><table class=\"RntSmf\"><tr><td><a href=\"/url?q=https://www.britannica.com/biography/MS-Dhoni&amp;sa=U&amp;ved=2ahUKEwj0xtnGyOGEAxXSRmcHHRVoBuwQqoUBegQIExAB&amp;usg=AOvVaw24vzJ2APIMYCi00kzJRuY3\"><div class=\"kCmkOe\"><img alt=\"\" class=\"DS1iW\" src=\"https://encrypted-tbn0.gstatic.com/images?q=tbn:ANd9GcTYCmQaQDBHif6G_raTPWZxfNlK_Zjj0ly-FpYGXmtpJZISGw_BN9aLnShNMow&amp;s\"/></div></a></td></tr><tr><td><a href=\"/url?q=https://www.britannica.com/biography/MS-Dhoni&amp;sa=U&amp;ved=2ahUKEwj0xtnGyOGEAxXSRmcHHRVoBuwQr4kDegQIExAC&amp;usg=AOvVaw3ijWDBa_bS8QY0D4iufXTd\"><div class=\"AlD19d\"> <span class=\"qXLe6d x3G5ab\"> <span class=\"fYyStc\">M.S. Dhoni | Biography,...</span> </span> <span class=\"qXLe6d F9iS2e\"> <span class=\"fYyStc\">www.britannica.com</span> </span> </div></a></td></tr></table></div></div> </div> </div></td><td align=\"center\" class=\"e3goi\"><div class=\"jjVJ4e\"> <div> <div class=\"lIMUZd\"><div><table class=\"RntSmf\"><tr><td><a href=\"/url?q=https://m.economictimes.com/news/sports/ms-dhonis-cryptic-fb-post-teases-fans-ahead-of-ipl-2024-heres-what-he-wrote/articleshow/108211803.cms&amp;sa=U&amp;ved=2ahUKEwj0xtnGyOGEAxXSRmcHHRVoBuwQqoUBegQIERAB&amp;usg=AOvVaw3x_V73buzPTwWkASSon2RR\"><div class=\"kCmkOe\"><img alt=\"\" class=\"DS1iW\" src=\"https://encrypted-tbn0.gstatic.com/images?q=tbn:ANd9GcQ9rYwP6O-5FcTBPlugUfBfrDLcjgqw9Uerr_GHvkcYaLeA0cOgumb4Iyhm9w&amp;s\"/></div></a></td></tr><tr><td><a href=\"/url?q=https://m.economictimes.com/news/sports/ms-dhonis-cryptic-fb-post-teases-fans-ahead-of-ipl-2024-heres-what-he-wrote/articleshow/108211803.cms&amp;sa=U&amp;ved=2ahUKEwj0xtnGyOGEAxXSRmcHHRVoBuwQr4kDegQIERAC&amp;usg=AOvVaw0tE1pwK8O6N6K__WaeZPxc\"><div class=\"AlD19d\"> <span class=\"qXLe6d x3G5ab\"> <span class=\"fYyStc\">MS Dhoni: MS Dhoni's...</span> </span> <span class=\"qXLe6d F9iS2e\"> <span class=\"fYyStc\">m.economictimes.com</span> </span> </div></a></td></tr></table></div></div> </div> </div></td></tr><tr><td align=\"center\" class=\"e3goi\"><div class=\"jjVJ4e\"> <div> <div class=\"lIMUZd\"><div><table class=\"RntSmf\"><tr><td><a href=\"/url?q=https://crictoday.com/cricket/news/ms-dhonis-mysterious-statement-hints-at-future-captaincy-and-retirement-from-csk/&amp;sa=U&amp;ved=2ahUKEwj0xtnGyOGEAxXSRmcHHRVoBuwQqoUBegQIEBAB&amp;usg=AOvVaw2pMHVC5yzcVc1pfEyqzuW1\"><div class=\"kCmkOe\"><img alt=\"\" class=\"DS1iW\" src=\"https://encrypted-tbn0.gstatic.com/images?q=tbn:ANd9GcTuELY-NjU0IUJvpgIXCz-tvwsRe_UYEesltUr7e-TB8CozW0-UVTU1KaX3atc&amp;s\"/></div></a></td></tr><tr><td><a href=\"/url?q=https://crictoday.com/cricket/news/ms-dhonis-mysterious-statement-hints-at-future-captaincy-and-retirement-from-csk/&amp;sa=U&amp;ved=2ahUKEwj0xtnGyOGEAxXSRmcHHRVoBuwQr4kDegQIEBAC&amp;usg=AOvVaw3gSZbc7cjpHy_R-wQ7Fyy7\"><div class=\"AlD19d\"> <span class=\"qXLe6d x3G5ab\"> <span class=\"fYyStc\">MS Dhoni's mysterious...</span> </span> <span class=\"qXLe6d F9iS2e\"> <span class=\"fYyStc\">crictoday.com</span> </span> </div></a></td></tr></table></div></div> </div> </div></td><td align=\"center\" class=\"e3goi\"><div class=\"jjVJ4e\"> <div> <div class=\"lIMUZd\"><div><table class=\"RntSmf\"><tr><td><a href=\"/url?q=https://cricket.acoe.edu.in/cricket/ms-dhoni-full-details/&amp;sa=U&amp;ved=2ahUKEwj0xtnGyOGEAxXSRmcHHRVoBuwQqoUBegQICxAB&amp;usg=AOvVaw2vnPZXxDKeQQi4FNLmx38y\"><div class=\"kCmkOe\"><img alt=\"\" class=\"DS1iW\" src=\"https://encrypted-tbn0.gstatic.com/images?q=tbn:ANd9GcR_Xz1b9d1Nsn4w_rZrxpWkS9-ypq3r4k5UuOBDTkZMMpdCv6VXtiM5vliLHg&amp;s\"/></div></a></td></tr><tr><td><a href=\"/url?q=https://cricket.acoe.edu.in/cricket/ms-dhoni-full-details/&amp;sa=U&amp;ved=2ahUKEwj0xtnGyOGEAxXSRmcHHRVoBuwQr4kDegQICxAC&amp;usg=AOvVaw3nQWKApyB9q8liVOA3H0Un\"><div class=\"AlD19d\"> <span class=\"qXLe6d x3G5ab\"> <span class=\"fYyStc\">Ms Dhoni Full Details -...</span> </span> <span class=\"qXLe6d F9iS2e\"> <span class=\"fYyStc\">cricket.acoe.edu.in</span> </span> </div></a></td></tr></table></div></div> </div> </div></td><td align=\"center\" class=\"e3goi\"><div class=\"jjVJ4e\"> <div> <div class=\"lIMUZd\"><div><table class=\"RntSmf\"><tr><td><a href=\"/url?q=https://cricketaddictor.com/ipl-2024/ms-dhoni-arrives-in-chennai-begins-preparation-for-ipl-2024/&amp;sa=U&amp;ved=2ahUKEwj0xtnGyOGEAxXSRmcHHRVoBuwQqoUBegQICRAB&amp;usg=AOvVaw0MQasDlG1JyX4_DPRv4fCQ\"><div class=\"kCmkOe\"><img alt=\"\" class=\"DS1iW\" src=\"https://encrypted-tbn0.gstatic.com/images?q=tbn:ANd9GcRxvL6gBnEW2pVbPZ6w0K1xq-Cr0TkTYXiKM5XbRFYRY0aOgLc2lrCQj2sjCw&amp;s\"/></div></a></td></tr><tr><td><a href=\"/url?q=https://cricketaddictor.com/ipl-2024/ms-dhoni-arrives-in-chennai-begins-preparation-for-ipl-2024/&amp;sa=U&amp;ved=2ahUKEwj0xtnGyOGEAxXSRmcHHRVoBuwQr4kDegQICRAC&amp;usg=AOvVaw0xq472MLHZuWp0GYKRtFnf\"><div class=\"AlD19d\"> <span class=\"qXLe6d x3G5ab\"> <span class=\"fYyStc\">MS Dhoni arrives in...</span> </span> <span class=\"qXLe6d F9iS2e\"> <span class=\"fYyStc\">cricketaddictor.com</span> </span> </div></a></td></tr></table></div></div> </div> </div></td><td align=\"center\" class=\"e3goi\"><div class=\"jjVJ4e\"> <div> <div class=\"lIMUZd\"><div><table class=\"RntSmf\"><tr><td><a href=\"/url?q=https://www.iplt20.com/teams/chennai-super-kings/squad-details/1&amp;sa=U&amp;ved=2ahUKEwj0xtnGyOGEAxXSRmcHHRVoBuwQqoUBegQIChAB&amp;usg=AOvVaw2fPRFvKIcyuILMFMOW7n3i\"><div class=\"kCmkOe\"><img alt=\"\" class=\"DS1iW\" src=\"https://encrypted-tbn0.gstatic.com/images?q=tbn:ANd9GcQCU4co43Ppaqk6TR_VKleRANVXN6QXRO0GBQ4Zs33jlS0kdS9TT2skBtUmWA&amp;s\"/></div></a></td></tr><tr><td><a href=\"/url?q=https://www.iplt20.com/teams/chennai-super-kings/squad-details/1&amp;sa=U&amp;ved=2ahUKEwj0xtnGyOGEAxXSRmcHHRVoBuwQr4kDegQIChAC&amp;usg=AOvVaw0sBC2KayPbu7WCx1XPGn5l\"><div class=\"AlD19d\"> <span class=\"qXLe6d x3G5ab\"> <span class=\"fYyStc\">Mens Team | IPLT20</span> </span> <span class=\"qXLe6d F9iS2e\"> <span class=\"fYyStc\">www.iplt20.com</span> </span> </div></a></td></tr></table></div></div> </div> </div></td></tr><tr><td align=\"center\" class=\"e3goi\"><div class=\"jjVJ4e\"> <div> <div class=\"lIMUZd\"><div><table class=\"RntSmf\"><tr><td><a href=\"/url?q=https://www.hindustantimes.com/cricket/ms-dhoni-drops-cryptic-new-season-new-role-post-as-csk-captain-fuels-speculations-about-future-ahead-of-ipl-2024-101709556232760.html&amp;sa=U&amp;ved=2ahUKEwj0xtnGyOGEAxXSRmcHHRVoBuwQqoUBegQIDhAB&amp;usg=AOvVaw1MJ0KmmgXIiz3LGrYZ2VQd\"><div class=\"kCmkOe\"><img alt=\"\" class=\"DS1iW\" src=\"https://encrypted-tbn0.gstatic.com/images?q=tbn:ANd9GcS2bvvxuSbq9W0qg-emq__K4F-Wr00uvL2vKV5LXQv1ZHedG_hKRFmUn26AFlw&amp;s\"/></div></a></td></tr><tr><td><a href=\"/url?q=https://www.hindustantimes.com/cricket/ms-dhoni-drops-cryptic-new-season-new-role-post-as-csk-captain-fuels-speculations-about-future-ahead-of-ipl-2024-101709556232760.html&amp;sa=U&amp;ved=2ahUKEwj0xtnGyOGEAxXSRmcHHRVoBuwQr4kDegQIDhAC&amp;usg=AOvVaw0N51FQt9JUfvV9m2PYhHWj\"><div class=\"AlD19d\"> <span class=\"qXLe6d x3G5ab\"> <span class=\"fYyStc\">MS Dhoni's cryptic 'new...</span> </span> <span class=\"qXLe6d F9iS2e\"> <span class=\"fYyStc\">www.hindustantimes.com</span> </span> </div></a></td></tr></table></div></div> </div> </div></td><td align=\"center\" class=\"e3goi\"><div class=\"jjVJ4e\"> <div> <div class=\"lIMUZd\"><div><table class=\"RntSmf\"><tr><td><a href=\"/url?q=https://www.espncricinfo.com/cricketers/ms-dhoni-28081&amp;sa=U&amp;ved=2ahUKEwj0xtnGyOGEAxXSRmcHHRVoBuwQqoUBegQIDxAB&amp;usg=AOvVaw29-3ZVv8_zVh1cgGSoWoqp\"><div class=\"kCmkOe\"><img alt=\"\" class=\"DS1iW\" src=\"https://encrypted-tbn0.gstatic.com/images?q=tbn:ANd9GcQBADRnx8j5GI5oNpqafjUsQDNdw0zGtr0OA6kY0eA10L3WuxljlrIYeAR7dA&amp;s\"/></div></a></td></tr><tr><td><a href=\"/url?q=https://www.espncricinfo.com/cricketers/ms-dhoni-28081&amp;sa=U&amp;ved=2ahUKEwj0xtnGyOGEAxXSRmcHHRVoBuwQr4kDegQIDxAC&amp;usg=AOvVaw2IzOlMKiZnwgs7CWwy6_ep\"><div class=\"AlD19d\"> <span class=\"qXLe6d x3G5ab\"> <span class=\"fYyStc\">MS Dhoni Profile - Cricket...</span> </span> <span class=\"qXLe6d F9iS2e\"> <span class=\"fYyStc\">www.espncricinfo.com</span> </span> </div></a></td></tr></table></div></div> </div> </div></td><td align=\"center\" class=\"e3goi\"><div class=\"jjVJ4e\"> <div> <div class=\"lIMUZd\"><div><table class=\"RntSmf\"><tr><td><a href=\"/url?q=https://cricket.one/cricket-news/watch-ms-dhoni-arrives-in-chennai-to-join-csk-training-ahead-of-ipl-2024/65e79ce824ec3d272247f85b&amp;sa=U&amp;ved=2ahUKEwj0xtnGyOGEAxXSRmcHHRVoBuwQqoUBegQIDRAB&amp;usg=AOvVaw3AyPWoAKRfal97e-x0vjC2\"><div class=\"kCmkOe\"><img alt=\"\" class=\"DS1iW\" src=\"https://encrypted-tbn0.gstatic.com/images?q=tbn:ANd9GcS3NYJtKrCaHUh-luCYQ_Jonoe5Pct9JsdRkc6iDeYayZxSvs5BF2C7r4EbAQ&amp;s\"/></div></a></td></tr><tr><td><a href=\"/url?q=https://cricket.one/cricket-news/watch-ms-dhoni-arrives-in-chennai-to-join-csk-training-ahead-of-ipl-2024/65e79ce824ec3d272247f85b&amp;sa=U&amp;ved=2ahUKEwj0xtnGyOGEAxXSRmcHHRVoBuwQr4kDegQIDRAC&amp;usg=AOvVaw0zl9adEisGWWfNbRpZ-8Ar\"><div class=\"AlD19d\"> <span class=\"qXLe6d x3G5ab\"> <span class=\"fYyStc\">Watch] MS Dhoni Arrives In...</span> </span> <span class=\"qXLe6d F9iS2e\"> <span class=\"fYyStc\">cricket.one</span> </span> </div></a></td></tr></table></div></div> </div> </div></td><td align=\"center\" class=\"e3goi\"><div class=\"jjVJ4e\"> <div> <div class=\"lIMUZd\"><div><table class=\"RntSmf\"><tr><td><a href=\"/url?q=https://telanganatoday.com/after-hinting-at-a-new-role-ms-dhoni-links-up-with-csk-team-ahead-of-ipl-2024&amp;sa=U&amp;ved=2ahUKEwj0xtnGyOGEAxXSRmcHHRVoBuwQqoUBegQIDBAB&amp;usg=AOvVaw0OldxehDSCCL5Yqth-i4t4\"><div class=\"kCmkOe\"><img alt=\"\" class=\"DS1iW\" src=\"https://encrypted-tbn0.gstatic.com/images?q=tbn:ANd9GcSXMP1-s7x9uUGECb-eaLBLFBmr0ch_WL0JoVOuEwgU5_aya4kcu8GiKCDP_JQ&amp;s\"/></div></a></td></tr><tr><td><a href=\"/url?q=https://telanganatoday.com/after-hinting-at-a-new-role-ms-dhoni-links-up-with-csk-team-ahead-of-ipl-2024&amp;sa=U&amp;ved=2ahUKEwj0xtnGyOGEAxXSRmcHHRVoBuwQr4kDegQIDBAC&amp;usg=AOvVaw29XWfYQoM_iPQlZZ-yCzjq\"><div class=\"AlD19d\"> <span class=\"qXLe6d x3G5ab\"> <span class=\"fYyStc\">After hinting at a “new...</span> </span> <span class=\"qXLe6d F9iS2e\"> <span class=\"fYyStc\">telanganatoday.com</span> </span> </div></a></td></tr></table></div></div> </div> </div></td></tr><tr><td align=\"center\" class=\"e3goi\"><div class=\"jjVJ4e\"> <div> <div class=\"lIMUZd\"><div><table class=\"RntSmf\"><tr><td><a href=\"/url?q=https://circleofcricket.com/category/Latest_news/90629/ms-dhoni-shares-new-role-post-on-facebook-fuels-speculation-about-his-future&amp;sa=U&amp;ved=2ahUKEwj0xtnGyOGEAxXSRmcHHRVoBuwQqoUBegQIBBAB&amp;usg=AOvVaw327hymlEmRFJdO7HuzdsPq\"><div class=\"kCmkOe\"><img alt=\"\" class=\"DS1iW\" src=\"https://encrypted-tbn0.gstatic.com/images?q=tbn:ANd9GcQGiwLFODbTaUp9--fswobB3VzBVx9784Vc66P775pLkL_jHL3seIb8HSz-_-0&amp;s\"/></div></a></td></tr><tr><td><a href=\"/url?q=https://circleofcricket.com/category/Latest_news/90629/ms-dhoni-shares-new-role-post-on-facebook-fuels-speculation-about-his-future&amp;sa=U&amp;ved=2ahUKEwj0xtnGyOGEAxXSRmcHHRVoBuwQr4kDegQIBBAC&amp;usg=AOvVaw3dQQLu5xv5svXIylnjn0uM\"><div class=\"AlD19d\"> <span class=\"qXLe6d x3G5ab\"> <span class=\"fYyStc\">MS Dhoni shares 'new role'...</span> </span> <span class=\"qXLe6d F9iS2e\"> <span class=\"fYyStc\">circleofcricket.com</span> </span> </div></a></td></tr></table></div></div> </div> </div></td><td align=\"center\" class=\"e3goi\"><div class=\"jjVJ4e\"> <div> <div class=\"lIMUZd\"><div><table class=\"RntSmf\"><tr><td><a href=\"/url?q=https://timesofindia.indiatimes.com/sports/cricket/ipl/top-stories/ms-dhoni-in-new-role-chennai-super-kings-skipper-sets-social-media-ablaze-with-cryptic-post/articleshow/108210312.cms&amp;sa=U&amp;ved=2ahUKEwj0xtnGyOGEAxXSRmcHHRVoBuwQqoUBegQIBRAB&amp;usg=AOvVaw3bb-gappfGELAMzfmK_WTL\"><div class=\"kCmkOe\"><img alt=\"\" class=\"DS1iW\" src=\"https://encrypted-tbn0.gstatic.com/images?q=tbn:ANd9GcT7_QjfGFKfcGYxIOGgnZc13JFpaNtOxSkv63vY0hoOn8_Z34BGUTJAPqhwjA&amp;s\"/></div></a></td></tr><tr><td><a href=\"/url?q=https://timesofindia.indiatimes.com/sports/cricket/ipl/top-stories/ms-dhoni-in-new-role-chennai-super-kings-skipper-sets-social-media-ablaze-with-cryptic-post/articleshow/108210312.cms&amp;sa=U&amp;ved=2ahUKEwj0xtnGyOGEAxXSRmcHHRVoBuwQr4kDegQIBRAC&amp;usg=AOvVaw1wXPikT--9IDLXh0-zlSjT\"><div class=\"AlD19d\"> <span class=\"qXLe6d x3G5ab\"> <span class=\"fYyStc\">MS Dhoni in 'new role':...</span> </span> <span class=\"qXLe6d F9iS2e\"> <span class=\"fYyStc\">timesofindia.indiatimes.com...</span> </span> </div></a></td></tr></table></div></div> </div> </div></td><td align=\"center\" class=\"e3goi\"><div class=\"jjVJ4e\"> <div> <div class=\"lIMUZd\"><div><table class=\"RntSmf\"><tr><td><a href=\"/url?q=https://sports.ndtv.com/cricket/if-he-loses-20kg-i-will-pick-him-in-ipl-ms-dhonis-intriguing-chat-with-afghan-star-4645013&amp;sa=U&amp;ved=2ahUKEwj0xtnGyOGEAxXSRmcHHRVoBuwQqoUBegQIAxAB&amp;usg=AOvVaw2A1V-wOrOKtOPKKa5pUjtX\"><div class=\"kCmkOe\"><img alt=\"\" class=\"DS1iW\" src=\"https://encrypted-tbn0.gstatic.com/images?q=tbn:ANd9GcQnOH_j4Mjhz63lTh13QVUv7MQLo938RXlgdB0p1UZp4jR90gMLyPLGxFwWYQ&amp;s\"/></div></a></td></tr><tr><td><a href=\"/url?q=https://sports.ndtv.com/cricket/if-he-loses-20kg-i-will-pick-him-in-ipl-ms-dhonis-intriguing-chat-with-afghan-star-4645013&amp;sa=U&amp;ved=2ahUKEwj0xtnGyOGEAxXSRmcHHRVoBuwQr4kDegQIAxAC&amp;usg=AOvVaw2ZWDi8znMpebi49O7wtQaa\"><div class=\"AlD19d\"> <span class=\"qXLe6d x3G5ab\"> <span class=\"fYyStc\">If He Loses 20kg, I Will...</span> </span> <span class=\"qXLe6d F9iS2e\"> <span class=\"fYyStc\">sports.ndtv.com</span> </span> </div></a></td></tr></table></div></div> </div> </div></td><td align=\"center\" class=\"e3goi\"><div class=\"jjVJ4e\"> <div> <div class=\"lIMUZd\"><div><table class=\"RntSmf\"><tr><td><a href=\"/url?q=https://sports.ndtv.com/ipl-2024/personally-think-he-can-chennai-super-kings-stars-big-prediction-on-ms-dhonis-future-5183274&amp;sa=U&amp;ved=2ahUKEwj0xtnGyOGEAxXSRmcHHRVoBuwQqoUBegQICBAB&amp;usg=AOvVaw0N3kEcxhhSCZFgCXZ06jRZ\"><div class=\"kCmkOe\"><img alt=\"\" class=\"DS1iW\" src=\"https://encrypted-tbn0.gstatic.com/images?q=tbn:ANd9GcRi5iUrb0M2cBgnoevD2C1k1QBjoZspwqHxaQwT00E1C3ZzL_byMXa17A4vlIA&amp;s\"/></div></a></td></tr><tr><td><a href=\"/url?q=https://sports.ndtv.com/ipl-2024/personally-think-he-can-chennai-super-kings-stars-big-prediction-on-ms-dhonis-future-5183274&amp;sa=U&amp;ved=2ahUKEwj0xtnGyOGEAxXSRmcHHRVoBuwQr4kDegQICBAC&amp;usg=AOvVaw0W-dv5WMR7TZrCVE5fN3aJ\"><div class=\"AlD19d\"> <span class=\"qXLe6d x3G5ab\"> <span class=\"fYyStc\">Personally Think He...</span> </span> <span class=\"qXLe6d F9iS2e\"> <span class=\"fYyStc\">sports.ndtv.com</span> </span> </div></a></td></tr></table></div></div> </div> </div></td></tr><tr><td align=\"center\" class=\"e3goi\"><div class=\"jjVJ4e\"> <div> <div class=\"lIMUZd\"><div><table class=\"RntSmf\"><tr><td><a href=\"/url?q=https://www.oneindia.com/sports/cricket/ms-dhoni-to-leave-csk-captaincy-speculations-started-ahead-of-ipl-2024-3766243.html&amp;sa=U&amp;ved=2ahUKEwj0xtnGyOGEAxXSRmcHHRVoBuwQqoUBegQIAhAB&amp;usg=AOvVaw18SlXwW60CXWfYARd1vBuq\"><div class=\"kCmkOe\"><img alt=\"\" class=\"DS1iW\" src=\"https://encrypted-tbn0.gstatic.com/images?q=tbn:ANd9GcSxyAQvngT2K_oA36myY4I21Mhnivd95Bd_1eQvMxn_hfv8nIe425u60jOOyVA&amp;s\"/></div></a></td></tr><tr><td><a href=\"/url?q=https://www.oneindia.com/sports/cricket/ms-dhoni-to-leave-csk-captaincy-speculations-started-ahead-of-ipl-2024-3766243.html&amp;sa=U&amp;ved=2ahUKEwj0xtnGyOGEAxXSRmcHHRVoBuwQr4kDegQIAhAC&amp;usg=AOvVaw1fzcmq1qIUYNXMg-e4jOY9\"><div class=\"AlD19d\"> <span class=\"qXLe6d x3G5ab\"> <span class=\"fYyStc\">MS Dhoni To Leave CSK...</span> </span> <span class=\"qXLe6d F9iS2e\"> <span class=\"fYyStc\">www.oneindia.com</span> </span> </div></a></td></tr></table></div></div> </div> </div></td><td align=\"center\" class=\"e3goi\"><div class=\"jjVJ4e\"> <div> <div class=\"lIMUZd\"><div><table class=\"RntSmf\"><tr><td><a href=\"/url?q=https://www.timesnownews.com/web-stories/sports/3-captains-to-beat-ms-dhoni-in-an-ipl-final/photostory/108185222.cms&amp;sa=U&amp;ved=2ahUKEwj0xtnGyOGEAxXSRmcHHRVoBuwQqoUBegQIABAB&amp;usg=AOvVaw1CDQ20_r1TnLWsnB3Y67AR\"><div class=\"kCmkOe\"><img alt=\"\" class=\"DS1iW\" src=\"https://encrypted-tbn0.gstatic.com/images?q=tbn:ANd9GcTRXPlSyLHDOW_UAUZVU-UurXWZKBZuqX89ZfN7HjjAK3ewkYcWyrJ-Ldw-Uw&amp;s\"/></div></a></td></tr><tr><td><a href=\"/url?q=https://www.timesnownews.com/web-stories/sports/3-captains-to-beat-ms-dhoni-in-an-ipl-final/photostory/108185222.cms&amp;sa=U&amp;ved=2ahUKEwj0xtnGyOGEAxXSRmcHHRVoBuwQr4kDegQIABAC&amp;usg=AOvVaw1zDdponO6s5gVY-3IyFCzZ\"><div class=\"AlD19d\"> <span class=\"qXLe6d x3G5ab\"> <span class=\"fYyStc\">3 Captains To Beat MS Dhoni...</span> </span> <span class=\"qXLe6d F9iS2e\"> <span class=\"fYyStc\">www.timesnownews.com</span> </span> </div></a></td></tr></table></div></div> </div> </div></td><td align=\"center\" class=\"e3goi\"><div class=\"jjVJ4e\"> <div> <div class=\"lIMUZd\"><div><table class=\"RntSmf\"><tr><td><a href=\"/url?q=https://odishatv.in/news/sports/-new-season-new-role-csk-captain-ms-dhoni-clarifies-about-his-confusing-post-ahead-of-ipl-2024-229531&amp;sa=U&amp;ved=2ahUKEwj0xtnGyOGEAxXSRmcHHRVoBuwQqoUBegQIBhAB&amp;usg=AOvVaw1lUpBAw1dO4EKRdiOVCxMO\"><div class=\"kCmkOe\"><img alt=\"\" class=\"DS1iW\" src=\"https://encrypted-tbn0.gstatic.com/images?q=tbn:ANd9GcS1ivRxm3Sr-PYGOml3GtU9Ci3wbWftBMFV7FkviDtBdQRWZFGgm9gqLJ8SZoE&amp;s\"/></div></a></td></tr><tr><td><a href=\"/url?q=https://odishatv.in/news/sports/-new-season-new-role-csk-captain-ms-dhoni-clarifies-about-his-confusing-post-ahead-of-ipl-2024-229531&amp;sa=U&amp;ved=2ahUKEwj0xtnGyOGEAxXSRmcHHRVoBuwQr4kDegQIBhAC&amp;usg=AOvVaw25Yv0gdmJ3J7tlmYbRtvcd\"><div class=\"AlD19d\"> <span class=\"qXLe6d x3G5ab\"> <span class=\"fYyStc\">New Season, New Role': CSK...</span> </span> <span class=\"qXLe6d F9iS2e\"> <span class=\"fYyStc\">odishatv.in</span> </span> </div></a></td></tr></table></div></div> </div> </div></td><td align=\"center\" class=\"e3goi\"><div class=\"jjVJ4e\"> <div> <div class=\"lIMUZd\"><div><table class=\"RntSmf\"><tr><td><a href=\"/url?q=https://www.indiatoday.in/sports/cricket/story/ms-dhoni-was-left-surprised-by-r-ashwin-batting-after-maiden-test-hundred-2511385-2024-03-06&amp;sa=U&amp;ved=2ahUKEwj0xtnGyOGEAxXSRmcHHRVoBuwQqoUBegQIBxAB&amp;usg=AOvVaw2XrQqpaR8HUCiVKDjoOOb-\"><div class=\"kCmkOe\"><img alt=\"\" class=\"DS1iW\" src=\"https://encrypted-tbn0.gstatic.com/images?q=tbn:ANd9GcSgj8qrpOeocl6aEZJtvglrkVsq2Ven2fL7rIOgG4GSoGOZ61bu6PiWvPipnQ&amp;s\"/></div></a></td></tr><tr><td><a href=\"/url?q=https://www.indiatoday.in/sports/cricket/story/ms-dhoni-was-left-surprised-by-r-ashwin-batting-after-maiden-test-hundred-2511385-2024-03-06&amp;sa=U&amp;ved=2ahUKEwj0xtnGyOGEAxXSRmcHHRVoBuwQr4kDegQIBxAC&amp;usg=AOvVaw2LHCc_iPZb17APv6UN3eBh\"><div class=\"AlD19d\"> <span class=\"qXLe6d x3G5ab\"> <span class=\"fYyStc\">When MS Dhoni was left...</span> </span> <span class=\"qXLe6d F9iS2e\"> <span class=\"fYyStc\">www.indiatoday.in</span> </span> </div></a></td></tr></table></div></div> </div> </div></td></tr></table></div><table class=\"uZgmoc\"><tbody><td><a class=\"frGj1b\" href=\"/search?q=MS+Dhoni&amp;sca_esv=8cd23cecb428a702&amp;sca_upv=1&amp;rlz=1C1CHBF_enIN1044IN1044&amp;biw=767&amp;bih=694&amp;ie=UTF-8&amp;tbm=isch&amp;ei=cGTpZfTOIdKNnesPldCZ4A4&amp;start=20&amp;sa=N\">Next &gt;</a></td></tbody></table><br/><div class=\"TuS8Ad\" data-ved=\"0ahUKEwj0xtnGyOGEAxXSRmcHHRVoBuwQpyoIUg\"><style>.VYM29{font-weight:bold}</style><div align=\"center\" class=\"HddGcc\"><span class=\"VYM29\">Haveli, Maharashtra</span><span> - </span><span>From your IP address</span><span> - </span><a href=\"/url?q=https://support.google.com/websearch%3Fp%3Dws_settings_location%26hl%3Den-IN&amp;opi=89978449&amp;sa=U&amp;ved=0ahUKEwj0xtnGyOGEAxXSRmcHHRVoBuwQty4IUw&amp;usg=AOvVaw2lLU5owMPdWYdXXM2tbGav\">Learn more</a></div><div align=\"center\"><a class=\"rEM8G\" href=\"/url?q=https://accounts.google.com/ServiceLogin%3Fcontinue%3Dhttps://www.google.com/search%253Fsca_esv%253D8cd23cecb428a702%2526sca_upv%253D1%2526rlz%253D1C1CHBF_enIN1044IN1044%2526sxsrf%253DACQVn08q_FGBdDn2rzjI056zd0nNUMZTIw:1709794170198%2526q%253DMS%252BDhoni%2526tbm%253Disch%2526source%253Dlnms%2526sa%253DX%2526ved%253D2ahUKEwjXgp3Rx-GEAxUYi2MGHb6CAGIQ0pQJegQIDxAB%2526biw%253D767%2526bih%253D694%2526dpr%253D1.25%26hl%3Den&amp;opi=89978449&amp;sa=U&amp;ved=0ahUKEwj0xtnGyOGEAxXSRmcHHRVoBuwQxs8CCFQ&amp;usg=AOvVaw2h2CC39CMbvTJI1CaqJvYo\">Sign in</a></div><div><table class=\"bookcf\"><tbody class=\"InWNIe\"><tr><td><a class=\"rEM8G\" href=\"https://www.google.com/preferences?hl=en&amp;sa=X&amp;ved=0ahUKEwj0xtnGyOGEAxXSRmcHHRVoBuwQv5YECFU\">Settings</a></td><td><a class=\"rEM8G\" href=\"https://www.google.com/intl/en_in/policies/privacy/\">Privacy</a></td><td><a class=\"rEM8G\" href=\"https://www.google.com/intl/en_in/policies/terms/\">Terms</a></td></tr></tbody></table></div></div><div> </div></body></html>"
      ]
     },
     "execution_count": 128,
     "metadata": {},
     "output_type": "execute_result"
    }
   ],
   "source": [
    "soup"
   ]
  },
  {
   "cell_type": "code",
   "execution_count": 129,
   "id": "314d47cd-2105-42bb-a544-e15006acb751",
   "metadata": {},
   "outputs": [],
   "source": [
    "image_tags=soup.find_all('img')"
   ]
  },
  {
   "cell_type": "code",
   "execution_count": 130,
   "id": "44044e25-6201-48c1-9679-a040347fdd47",
   "metadata": {},
   "outputs": [
    {
     "data": {
      "text/plain": [
       "[<img alt=\"Google\" class=\"kgJEQe\" src=\"/images/branding/searchlogo/1x/googlelogo_desk_heirloom_color_150x55dp.gif\"/>,\n",
       " <img alt=\"\" class=\"DS1iW\" src=\"https://encrypted-tbn0.gstatic.com/images?q=tbn:ANd9GcRwC1Lj-3m7AvUpNc0ZfKeS-aipn4wL0n9ZbUaDPEeMgHkcOs0TtWSBw5CPr7A&amp;s\"/>,\n",
       " <img alt=\"\" class=\"DS1iW\" src=\"https://encrypted-tbn0.gstatic.com/images?q=tbn:ANd9GcRxmTiObV3ac7JuBHpTS_AHih0G63PGqHHj6NMEoBY3KIhmGZB3J3VQVOCZiEg&amp;s\"/>,\n",
       " <img alt=\"\" class=\"DS1iW\" src=\"https://encrypted-tbn0.gstatic.com/images?q=tbn:ANd9GcTYCmQaQDBHif6G_raTPWZxfNlK_Zjj0ly-FpYGXmtpJZISGw_BN9aLnShNMow&amp;s\"/>,\n",
       " <img alt=\"\" class=\"DS1iW\" src=\"https://encrypted-tbn0.gstatic.com/images?q=tbn:ANd9GcQ9rYwP6O-5FcTBPlugUfBfrDLcjgqw9Uerr_GHvkcYaLeA0cOgumb4Iyhm9w&amp;s\"/>,\n",
       " <img alt=\"\" class=\"DS1iW\" src=\"https://encrypted-tbn0.gstatic.com/images?q=tbn:ANd9GcTuELY-NjU0IUJvpgIXCz-tvwsRe_UYEesltUr7e-TB8CozW0-UVTU1KaX3atc&amp;s\"/>,\n",
       " <img alt=\"\" class=\"DS1iW\" src=\"https://encrypted-tbn0.gstatic.com/images?q=tbn:ANd9GcR_Xz1b9d1Nsn4w_rZrxpWkS9-ypq3r4k5UuOBDTkZMMpdCv6VXtiM5vliLHg&amp;s\"/>,\n",
       " <img alt=\"\" class=\"DS1iW\" src=\"https://encrypted-tbn0.gstatic.com/images?q=tbn:ANd9GcRxvL6gBnEW2pVbPZ6w0K1xq-Cr0TkTYXiKM5XbRFYRY0aOgLc2lrCQj2sjCw&amp;s\"/>,\n",
       " <img alt=\"\" class=\"DS1iW\" src=\"https://encrypted-tbn0.gstatic.com/images?q=tbn:ANd9GcQCU4co43Ppaqk6TR_VKleRANVXN6QXRO0GBQ4Zs33jlS0kdS9TT2skBtUmWA&amp;s\"/>,\n",
       " <img alt=\"\" class=\"DS1iW\" src=\"https://encrypted-tbn0.gstatic.com/images?q=tbn:ANd9GcS2bvvxuSbq9W0qg-emq__K4F-Wr00uvL2vKV5LXQv1ZHedG_hKRFmUn26AFlw&amp;s\"/>,\n",
       " <img alt=\"\" class=\"DS1iW\" src=\"https://encrypted-tbn0.gstatic.com/images?q=tbn:ANd9GcQBADRnx8j5GI5oNpqafjUsQDNdw0zGtr0OA6kY0eA10L3WuxljlrIYeAR7dA&amp;s\"/>,\n",
       " <img alt=\"\" class=\"DS1iW\" src=\"https://encrypted-tbn0.gstatic.com/images?q=tbn:ANd9GcS3NYJtKrCaHUh-luCYQ_Jonoe5Pct9JsdRkc6iDeYayZxSvs5BF2C7r4EbAQ&amp;s\"/>,\n",
       " <img alt=\"\" class=\"DS1iW\" src=\"https://encrypted-tbn0.gstatic.com/images?q=tbn:ANd9GcSXMP1-s7x9uUGECb-eaLBLFBmr0ch_WL0JoVOuEwgU5_aya4kcu8GiKCDP_JQ&amp;s\"/>,\n",
       " <img alt=\"\" class=\"DS1iW\" src=\"https://encrypted-tbn0.gstatic.com/images?q=tbn:ANd9GcQGiwLFODbTaUp9--fswobB3VzBVx9784Vc66P775pLkL_jHL3seIb8HSz-_-0&amp;s\"/>,\n",
       " <img alt=\"\" class=\"DS1iW\" src=\"https://encrypted-tbn0.gstatic.com/images?q=tbn:ANd9GcT7_QjfGFKfcGYxIOGgnZc13JFpaNtOxSkv63vY0hoOn8_Z34BGUTJAPqhwjA&amp;s\"/>,\n",
       " <img alt=\"\" class=\"DS1iW\" src=\"https://encrypted-tbn0.gstatic.com/images?q=tbn:ANd9GcQnOH_j4Mjhz63lTh13QVUv7MQLo938RXlgdB0p1UZp4jR90gMLyPLGxFwWYQ&amp;s\"/>,\n",
       " <img alt=\"\" class=\"DS1iW\" src=\"https://encrypted-tbn0.gstatic.com/images?q=tbn:ANd9GcRi5iUrb0M2cBgnoevD2C1k1QBjoZspwqHxaQwT00E1C3ZzL_byMXa17A4vlIA&amp;s\"/>,\n",
       " <img alt=\"\" class=\"DS1iW\" src=\"https://encrypted-tbn0.gstatic.com/images?q=tbn:ANd9GcSxyAQvngT2K_oA36myY4I21Mhnivd95Bd_1eQvMxn_hfv8nIe425u60jOOyVA&amp;s\"/>,\n",
       " <img alt=\"\" class=\"DS1iW\" src=\"https://encrypted-tbn0.gstatic.com/images?q=tbn:ANd9GcTRXPlSyLHDOW_UAUZVU-UurXWZKBZuqX89ZfN7HjjAK3ewkYcWyrJ-Ldw-Uw&amp;s\"/>,\n",
       " <img alt=\"\" class=\"DS1iW\" src=\"https://encrypted-tbn0.gstatic.com/images?q=tbn:ANd9GcS1ivRxm3Sr-PYGOml3GtU9Ci3wbWftBMFV7FkviDtBdQRWZFGgm9gqLJ8SZoE&amp;s\"/>,\n",
       " <img alt=\"\" class=\"DS1iW\" src=\"https://encrypted-tbn0.gstatic.com/images?q=tbn:ANd9GcSgj8qrpOeocl6aEZJtvglrkVsq2Ven2fL7rIOgG4GSoGOZ61bu6PiWvPipnQ&amp;s\"/>]"
      ]
     },
     "execution_count": 130,
     "metadata": {},
     "output_type": "execute_result"
    }
   ],
   "source": [
    "image_tags"
   ]
  },
  {
   "cell_type": "code",
   "execution_count": 131,
   "id": "59b633af-c6ea-44fb-b9cd-8e3817b8a811",
   "metadata": {},
   "outputs": [
    {
     "data": {
      "text/plain": [
       "21"
      ]
     },
     "execution_count": 131,
     "metadata": {},
     "output_type": "execute_result"
    }
   ],
   "source": [
    "len(image_tags)"
   ]
  },
  {
   "cell_type": "code",
   "execution_count": 132,
   "id": "3fbfb4aa-1ab0-453e-9240-94aa412e8994",
   "metadata": {
    "scrolled": true
   },
   "outputs": [
    {
     "data": {
      "text/plain": [
       "b'\\xff\\xd8\\xff\\xe0\\x00\\x10JFIF\\x00\\x01\\x01\\x00\\x00\\x01\\x00\\x01\\x00\\x00\\xff\\xdb\\x00\\x84\\x00\\t\\x06\\x07\\x08\\x07\\x06\\t\\x08\\x07\\x08\\n\\n\\t\\x0b\\r\\x16\\x0f\\r\\x0c\\x0c\\r\\x1b\\x14\\x15\\x10\\x16 \\x1d\"\" \\x1d\\x1f\\x1f$(4,$&1\\'\\x1f\\x1f-=-157:::#+?D?8C49:7\\x01\\n\\n\\n\\r\\x0c\\r\\x1a\\x0f\\x0f\\x1a7%\\x1f%77777777777777777777777777777777777777777777777777\\xff\\xc0\\x00\\x11\\x08\\x00\\x8c\\x00j\\x03\\x01\"\\x00\\x02\\x11\\x01\\x03\\x11\\x01\\xff\\xc4\\x00\\x1c\\x00\\x00\\x02\\x02\\x03\\x01\\x01\\x00\\x00\\x00\\x00\\x00\\x00\\x00\\x00\\x00\\x00\\x03\\x04\\x05\\x06\\x00\\x02\\x07\\x01\\x08\\xff\\xc4\\x00>\\x10\\x00\\x02\\x01\\x03\\x02\\x03\\x05\\x05\\x05\\x05\\x07\\x05\\x00\\x00\\x00\\x00\\x01\\x02\\x03\\x00\\x04\\x11\\x05!\\x06\\x121\\x13\"AQa2q\\x81\\x91\\xa1\\x07\\x14#B\\xb1Rb\\xc1\\xd1\\xf1\\x15$34Cr\\xc2S\\xa2\\xa3\\xb2\\xf0\\xff\\xc4\\x00\\x19\\x01\\x00\\x03\\x01\\x01\\x01\\x00\\x00\\x00\\x00\\x00\\x00\\x00\\x00\\x00\\x00\\x00\\x00\\x01\\x02\\x04\\x03\\x05\\xff\\xc4\\x00\\x1e\\x11\\x01\\x01\\x00\\x02\\x02\\x03\\x01\\x01\\x00\\x00\\x00\\x00\\x00\\x00\\x00\\x00\\x00\\x01\\x02\\x11\\x03!\\x121A2\"\\xff\\xda\\x00\\x0c\\x03\\x01\\x00\\x02\\x11\\x03\\x11\\x00?\\x00\\xe3\\x91\\x9e\\x94\\xd2t\\xa5c\\xa6\\x93\\xa5Zk\\x1e\\x95\\x9a\\x9bjVQ\\xbd2\\x85\\xeb(\\x91G\\xda62\\x15GV=\\x05>\\xb6\\x96J\\xd8k\\x80X\\x01\\x95\\xea\\x08\\'\\xa8\\xf7m\\xb5E\\xae\\x92m\\x1b\\x8c\\x8f\\x0f\\x9d{\\xcb\\xb0 \\x83\\x91\\xe1V(\\xac4\\xd2\\xbd\\xc7\\x0cA\\x0c\\xdd}v\\xfd>t\\x91\\xd1\\xae\\x19\\xb1\\x1c{\\x00|w?\\x1fx\\xa5\\xe4~\\x08\\x8f\\x1af\\xd7\\xadi=\\xbc\\xb17\\xe2!\\x15\\xb5\\xb7\\xb5U*,{8\\xa5\\xda\\x99\\xb8\\xebK\\x9e\\xb4\\xe9F\\x9427\\xa2W\\x98\\xa4f\\x16\\x9a\\x8b\\xa5*\\xbd)\\x98\\xfaS*\\xdd\\xa9k\\x8c\\xe5Tc\\x99\\x8e\\x052|\\xa9\\x19K5\\xe0\\x03\\xa88\\x1e\\x94Z1\\xf6\\x95\\xd34K\\xcb\\xcf\\xee\\xeaBF\\xcc\\x0c\\x92\\xe3#\\x1f\\xce\\xba_\\r\\xf0\\x96\\x97k\\x18-l&~\\xac\\xf2\\xeeZ\\xa3\\xf8kMd\\xb1\\x84\\x8d\\x81\\x19\\x03\\xfa\\xd5\\xe3H@\\xab\\x81\\xb9\\x15\\x8f<\\xed\\xba\\x8fC\\x8b\\x8f\\x197[\\xc5\\xc3\\xba[\\xa6\\x1a\\xca\\x11\\xb62\\x16\\x96\\xba\\xe0\\xcd\"e\\xeeG$\\x0c:4lF>\\x15g\\x820\\x06[\\xfaQ\\x960\\xcbD\\xf2]\\x98\\xdfq\\xc7\\xf8\\x93\\x85&\\xd3 \\x92q\\x8b\\xbb-\\xfbB\\x17\\x12F\\xbe~D{\\xbc\\xaa\\xa3g\\xa3\\x07\\x9b\\xf0\\xa4Vh\\xdf+\\x9f\\xce6\\xf0\\xf4\\xc1;\\xd7\\x7f\\xbd\\x80.IPT\\xf5\\x15\\xc95\\xebkm\\x02\\xfeE\\x84\\x05\\x0c\\xc4\\xa2\\x01\\xbf)\\xf5\\xe9\\xfd+\\xa7\\x1ev\\xf5Y\\xf9x\\xe4\\xee(\\xda\\x8c\\x06\\xda\\xe1\\xe1\\'%6\\'\\x1e?\\xc7\\xcb4\\x83T\\x8e\\xad+Mv\\xee\\xc8\\x10\\x9e\\x80yTq\\xae\\xec\\xadk+\\xd3^f\\x802\\x1aj*Ui\\x98\\xcd2\\xa21\\x15\\xee\\x99\\x04skv\\xcb \\xca\\xb1\\xc9\\x07\\xc7\\x00\\xd6\\xadR:m\\x93C\\xa8X\\xdd\\xf6\\x81\\x95\\xd4\\x92\\xa0\\x11\\xc9\\xd7\\xe7\\xb7\\xf2\\xa9\\xcf\\xd2\\xb8\\xe6\\xf2t\\x1bk\\xd3l\\x89\\x1cPv\\x8d\\xe03\\x81\\xf3\\xa9\\xad/R\\xd4\\xed_\\xb5\\xbc\\xd2\\x1f\\xee\\xa7\\xfdh\\x98\\x1eQ\\xe6EC\\xb6\\x95uy\\x02\\xfd\\xd0\\xf2\\xbe\\x0b\\r\\xf1\\xf2\\xa9}/L\\xbd\\xb1\\xb3\\xba\\x92mR\\xf0\\xc9\\')\\x89\\\\\\x1cE\\xe6?{9\\xf4\\xe9Y\\xe4\\x96=\\r\\xe4\\xb6Z\\xde\\xc3q\\x12\\xbcD2\\x9d\\xf2\\x0ev\\xa5\\xef\\xb8\\x93L\\xd3B\\xa5\\xc4\\xaf\\xce\\x7f*!lTG\\x04\\xb0\\x8a\\xd2\\xf6\\x06!\\xca\\xb9\\xe5\\xc0\\xc7\\xd2\\x97\\xb9\\x87\\\\\\x8e\\xec&\\x9b5\\xa3\\x0e\\xd4\\x06\\xedS\\xa2\\xf8\\xb7\\x99=v\\xa2v\\xac\\xa6\\xa2\\xc1i\\xabYj\\xb1\\x9f\\xba\\xca\\xacF\\xe5r2\\x07\\x9fZ\\xe5\\xff\\x00jC\\xee\\xfa\\x95\\xb1t\\xcaI\\xba\\xb6z\\x1e\\x87\\xf8U\\xfe\\xd1g\\x9ape\\xb6Hf\\x8c\\x9e\\xf2\\x0c+\\x8e\\x99\\x1e\\x86\\xa8\\xbfk\\xb8hm\\x94\\xf5^bq\\xeaT\\x7f:1\\xfd9\\xf2~\\\\\\xebT\\x98\\xcfp\\xd2\\x12O\\x86MG\\xb55>1\\xb5,\\xd5\\xa9\\x81\\xa9\\xaf1^\\x9a\\xcd\\xa9\\x01\\x12\\x98\\x8e\\x97Z<~\\x14\\xc0\\xc6\\xad\\xdad\\x01\\xf8:\\xd6\\xe4\\x9e\\xfc7\\xcd\\x1a\\x0f\\xddl\\x93\\xf5\\xaa\\x8bt\\xab\\x17\\x0b\\xcf\\x13i\\xd7\\x16o?\\xe2\\x9b\\x85u\\x84\\x9e\\xab\\x8d\\xc8\\xf5\\xc8\\xde\\xa3\\x93\\xf2\\xbe+\\xfd:\\x1e\\x85x\\x03,M\\xe41S:\\xcd\\xf0\\x82\\xc6D\\xca\\xe5W$\\x8f:\\xac\\xd8\\x8e\\xcex\\\\n\\x03o\\x8a\\x95\\xd6$\\xd3\\x90r\\\\\\xdc,q\\x95\\xefs\\x91\\x8d\\xfc=k$\\xed\\xeaK>\\x95\\xe0\\xedN\\xc9,o\\x9d\\xee@\\x93\\x9c\\xeeH\\x03\\xae?Z\\xbc\\xc1\\xd9\\\\*\\xb1Q\\xce\\x9b\\x13\\x8f/\\xe1T\\xcd\\t\\xf8R@\\x19/,\\xdeW\\xca1\\x91\\xb1\\xcc\\xdbm\\xbd\\\\\\xe3\\x8b\\xb1\\n\\xd1\\x80\\x02\\x8cc\\xd2\\xae\\xf4,\\xebU\\xb4\\xf2\\xa2)\\x0c0q\\x81\\xb5Q\\xef\\xac\\xd3T\\xd4\\xaen\\xa5\\x8a\\xda\\xe2\\x1b8\\xd4\\x98\\xa7R\\xc0\\xe4\\xb1l\\x8f\\xf6\\xf4\\xdf\\xae*\\xd3s!a#\\x16\\xc7-S8\\xcfP\\x8bB\\xe1+\\xceF\\x0by\\xa9\\x81\\x0cx\\\\\\x12\\xa4\\x10\\xc7>\\x8aO\\xd3\\xce\\x967y9g&8\\xd7\\x1c}\\xe1C\\xbe\\xe0u9\\xa5\\xda\\x9b\\x9b\\xfc%\\xf7R\\xad[\\x1eliYYYH\\x08\\xb4h\\xe8\\nh\\xf1S\\x03\\xe3\"\\x98\\xd2.\\x05\\xb6\\xa7\\x04\\x8cp\\xb9\\xe59\\xf5\\xa0\\x0ff\\x8f\\xa4i\\xad\\xabj\\xf6Zr1_\\xbc\\xcc\\xb1\\x97\\x1f\\x91I\\xef7\\xc0d\\xfc)Y\\xb9\\xa1.\\xae\\xdd\\x1fG\\xd4R+\\x98\\x8c\\xc3\\x9a\"w\\xc53\\x7f\\xa5\\xb5\\xee\\xa8\\x97\\x16\\xd1\\x8e\\xd5O:s\\x13\\x80<\\xbd:U\"\\xda[\\xfd?\\x91.\\x01h\\x9bx\\xe6\\x1b\\x83\\xf1\\xf3\\xabN\\x93\\xc4M\\x00\\x06Q\\x9c.\\x01\\xc6}k/\\x8d\\x9e\\x9e\\x86<\\x93\\xea\\xd9\\x0e\\x91ut\\xa7\\xb6\\xb4\\xb0\\x9a6\\x1b\\xabD3\\xfcA\\x15\\'\\xa6[\\x8d>5\\x8dgq\\x00$4O\\x92\\x10\\xfay\\x0fN\\x9eU\\x13a\\xc5\\xd6\\x00\\x02\\xd3(\\xc8\\xdds\\xd2\\x8f{\\xc4\\xf6O\\x80\\x070n\\xa5WsFS\\'K\\x9c\\xfbRW\\x93D\"w\\x04\\x05\\xc1<\\xde\\x9eu\\xc0\\xf8\\xb3\\x89\\xaex\\x92\\xf2\\xdd\\xe7D\\x8e\\x1bX\\xfb(cO,\\xee\\xc7\\xd4\\xed\\xf2\\xae\\x81\\xc7Z\\xbd\\xe4|5%\\xd4\\x11\\x18\\xa0\\x9ee\\xb6\\xcblp\\xc8\\xecq\\xf0_\\xadq\\xf1\\xd4WN\\x1c5\\xdb\\'?&\\xff\\x00\\x98rO\\xf0V\\x95~\\xb4\\xd3\\x7f\\x97\\x14\\xa3\\xf5\\xae\\xec\\xcdk++\\xca@E\\xa3\\xc7Js\\x91\\xec\\xe6\\xb3\\x9eO\\xda#\\xddL$\\xb9\\x95W,\\xc0{\\xeak\\x80\\x1b\\xb6\\xe2\\xfbH\\xe3\\x19g\\x86\\xe1#\\xf5s\\x0b\\x81\\x8a\\xa9\\xa8\\xce\\xe6\\xa7x2f\\xb7\\xe2]:X\\xce\\x1cK\\xdd>\\xb88\\xfa\\xe2\\x80\\xe8\\x9aU\\x9a\\xcf\\xa7$L\\x99\\x01@\\xdcyP%\\xd1\\x91$\\xccLb\\'\\xc0t\\xab\\xd5\\xd5\\x8c\\t\\x18\\xd4m#\\xfe\\xefry\\x99\\x06?\\nC\\xd4{\\x89\\xde\\xa3\\xefaU\\xe5e9\\x1e>\\x04z\\x11\\\\,\\xb3\\xdbn2e7\\x10\\xb6<9w+\\x0e\\xd1\\x80L\\xfe\\\\\\x13V}+\\x87T\\\\\\xac(\\xa1\\xe7m\\xcf0\\xcf\"\\xf9\\x9fO\\xd7\\xea\\x0b\\xa2\\x89\\xf5I\\x96\\xd2\\xd3\\xf0\\xc2/4\\xb2\\x91\\x9c\\x0fA\\xe7V\\xed\\x1a\\x14\\xb6G\\x828\\xc2\\x13\\xb9b\\xd9f\\xff\\x00q\\xf14\\xe67$g\\x9c\\xc3\\xaf\\xaeK\\xf6\\xe3s\\x05\\xbd\\xbe\\x99\\xa1\\xdbr\\xf2\\xc4\\x1e\\xe2A\\xf9\\xb3\\xec\\xa9>\\xff\\x00\\xc4\\xf9\\n\\xe3}\\x91U\\xce3\\xeaM]>\\xd05\\x13\\xab\\xf1N\\xa5r\\x1b1\\x89\\x8cQ\\xfa\"wG\\xe8O\\xc6\\xab\\x92C\\x98O/Q\\xb8\\xae\\xdae\\xf6N7uR\\x1e8\\x9dO\\x81,1\\xee\\xc1\\xa1\\xb4,Ow\\x18\\xf54\\\\\\x16\\xebXN\\x0e)\\x02\\xed\\x0c\\xa3\\xf2\\x93\\xee\\xde\\xb5\\xe5o\\xd9?*t\\x9cV\\xd9\\x7fZ\\x01e\\x85B\\x96a\\xd2\\xb1\\x92<\\xe3\\x07\\x1e`t\\xa6\\xa6R!`v\\xee\\xd2\\xd0w\\x97$gj\\x00\\xcfl\\x8c\\x81\\xa1`|\\xc55\\xc2\\xca[\\x89\\xf4\\x84\\xc7[\\xfbq\\xff\\x00\\x91iN^\\xeb\\x00\\x00\\xc8\\xa9n\\x04(\\xbce\\xa3\\x19\\x97+\\xf7\\xe8\\x06<\\x89\\x91@\\xf9\\x1c\\x1aa\\xf4\\x0e\\x88n,\\xd7\\xb3\\x92\\t\\xbb\\x15PCx1>c\\xd0c\\xeb@\\xe2\\r*+\\x82\\xb7\\x88\\x8c\\xbc\\xa7\\xbd\\xc8\\x0fO?\\xfe\\xf4\\xabl(%\\x8f\\x089\\xa3=\\x1b=()\\x08\\xc9@\\x8aX\\x120\\x05;&SG\\xc7\\x9d\\xc2\\xee 82\\xea\\xce\\xd6y#\\x91\\xf9%\\xb9*\\xb1\\x82=\\xa2\\x018\\xcd=\\xad]6\\x97\\x0e\\xad\\xa9\\xc6[\\xb3\\xb6\\xb6\\x94\\xe3=HR\\xc4\\xfc\\x08\\x00||\\xe9\\x99\\xb48M\\xfaj\\x0c\\x00\\x96=\\xd11\\xddV\\xc1\\x1c\\xe7\\xcc\\xe0\\xd5\\x7f\\xedR\\xe7\\xfb?\\x80\\xf5\\x04C\\xbc\\x91\\xaa\\x1c\\xf5<\\xee\\xab\\xff\\x00\"~\\x15\\x18\\xcd+\\x93)\\x95\\xdc|\\xf6\\xae\\xdc\\xc5\\x9b|\\xf5\\xacy\\xd4\\x1cF\\xa4\\xe3\\xcfj\\xd5\\xb6\\x03\\x1f\\x1a\\x11\\x00\\xe4\\xb7O\\x01\\xe3T\\x87\\x9e\\xd1\\x03\\x00\\x0e\\xacA\\xf0\\xa5\\xc3\\xf6\\x93\\x16\\xc7S\\x91\\xee\\xa3\\xdc0\\x8e\\xdc(\\xc8g\\xeb\\xbfAZX\\xc2\\xd26@\\xda\\x80<1\\xe4\\xe4\\xd3}\\x88\\xfd\\x9f\\xa5k\\x02\\xfe Jp\\xcd\\x108\\xe6\\x1bz\\xd3\\x08\\xab\\x96\\xcf>|\\xa9[S\\xdd+\\xe4k{\\x96$\\x9cP\\xec?\\xcc2\\xb7\\xe6\\x19\\xa4\\x0c\\xa0>F\\xa4\\xb8w\\xee\\xb6\\xba\\xee\\x8fz\\xf7 @\\x97\\x90=\\xd9t*-\\xc0\\x98g\\'\\xc4`g#\\xcf\\x14\\xabr\\xa7J&\\x81f5^ \\xb4\\xb5\\x11\\x96\\x13J\\xb1\\xb8N\\xa5I\\x19\\xf9\\x0c\\x9a\\x03\\xe9\\x8b9e\\x86\\xee;E\\x90\\x98\\xa4|\\x8c\\x1e\\x80\\x82jn\\xc2>Hy\\xcfV\\xdfs\\x9a\\xab\\xe9al\\xcar\\xa1\\x1f\\xd9\\xc8\\xb0\\x14\\xe6f\\xdb\\x1e\\xd6X\\x92G/)\\xdc\\x93\\xde\\xf3\\x15mEnEPp\\x02\\x81FB\\x07#v\\x97\\x021\\xec\\x81\\x96\\xae]\\xf6\\xe3xF\\x81m\\x10#7W\\x88\\xb8\\xfd\\xc5Vo\\xd4-u)\\x14C\\x0c\\x8d\\xe2F\\xf5\\xc3\\xfe\\xdb\\xee\\x8b\\xeazU\\xa8=\\xd4\\x8aY\\x98z\\x92\\xa0\\x7f\\xea~t@\\xe6\\x0eI\\xa1\\xacl\\xcf\\xb8\\xa3\\x1cV\\xae\\xfc\\x88[\\xa1\\xe8(\\x04\\xee\\x9f\\x9e`\\xab\\xd3\\xa0\\x19\\xf0\\xa9\\xbb8E\\xbd\\xb0\\xfd\\xacoP\\xda|}\\xbd\\xe2\\x9f\\x00jm\\x9b\\xba\\xf8\\xe9\\xd2\\x88)`\\xfd\\x9c\\x17\\x13g\\x04\\x03\\x8a\\x8b\\x16\\xb3\\x10\\tG\\xc9\\xf3z\\x90\\x9d\\xb1jc\\x18\\x05\\x9b9=)sk\\x01\\xf6\\xae\\\\\\x9f\\x12\\x18P\\x02\\x91\\xb74%\\xcaJ\\xaf\\xebX7\\xdc\\xd1\\x18\\x0e\\xc9\\xbd\\xd4\\x8c{\\x89W\\xa095d\\xfb-\\\\q\\xbe\\x90O\\x8d\\xc8\\x1fCUH\\x072\\x82j\\xc1\\xc1\\xd7\\x12Zq\\r\\x8c\\xf0\\x10\\xb2$\\xa3\\x94\\xe38\\'l\\xfdi\\x93\\xe8+$\\xe7}N\\xe3\\xfd9\\xe71\\xa1\\xf3\\xe4\\x01O\\xfd\\xdc\\xd5m\\x07\\n=\\xd5\\x07{\\x04v\\x96\\xd0\\xdb\\xc0\\xbc\\xb1C\\x1f*\\x0c\\xe7\\xd3\\xe2v\\xa9\\x98\\xd7\\xba\\x0eN\\xc3\\x18\\xa2\\xfa(^\\xfe^U\\nw\\x0e+\\xe7\\x9f\\xb5\\x99\\xfb~8\\x99?\\xe8[E\\x1f\\xc4\\xe5\\xbf\\xe5]\\xf3Qc\\xdb(\\xf4\\xfe\\x02\\xbeq\\xe3\\xd6-\\xc6\\xfa\\xd9=D\\xca\\x07\\xc1\\x16\\x8f\\x86\\x818\\xc6\\xf4\\xa5\\xd3\\x19\\x1c\\xc6\\x83<\\xbb|h\\xf39Ub:\\x80H\\xa0\\xd9\\xa8?\\xad\\x00\\xf6\\x99m\\xd8\\xa71\\xc71\\x14g\\x1b\\x91\\xe1\\xd6\\xb7\\x83\\xd9>\\x82\\xbc\\x84s\\xf31\\xeb\\xe9L\\x8a^\\x15\\xec7\\xe9\\xe3A\\xed\\xa3\\x1br\\ncPE[iq\\xe1Q\\x02G \\x1ecH\\xe3\\xff\\xd9'"
      ]
     },
     "execution_count": 132,
     "metadata": {},
     "output_type": "execute_result"
    }
   ],
   "source": [
    "requests.get(\"https://encrypted-tbn0.gstatic.com/images?q=tbn:ANd9GcQWIm8IhNbQ8cHHkx25dbTK7_RaRK8DrRrK4GrR4wyApiAsBJPUbhsa7ICjKg&s\").content"
   ]
  },
  {
   "cell_type": "code",
   "execution_count": 133,
   "id": "9397daa2-b898-4e94-94ea-64bb3f02450d",
   "metadata": {},
   "outputs": [],
   "source": [
    "save_dir='images/'\n",
    "if not os.path.exists(save_dir):\n",
    "    os.makedirs(save_dir)"
   ]
  },
  {
   "cell_type": "code",
   "execution_count": 134,
   "id": "e72dcd3e-1598-4a8f-b4cc-3dffcf4cdd21",
   "metadata": {},
   "outputs": [
    {
     "name": "stdout",
     "output_type": "stream",
     "text": [
      "0\n",
      "1\n",
      "2\n",
      "3\n",
      "4\n",
      "5\n",
      "6\n",
      "7\n",
      "8\n",
      "9\n",
      "10\n",
      "11\n",
      "12\n",
      "13\n",
      "14\n",
      "15\n",
      "16\n",
      "17\n",
      "18\n",
      "19\n",
      "20\n"
     ]
    }
   ],
   "source": [
    "for i in image_tags:\n",
    "    print(image_tags.index(i))"
   ]
  },
  {
   "cell_type": "code",
   "execution_count": 135,
   "id": "01186699-a89f-49a2-8fab-5e8b8319697b",
   "metadata": {},
   "outputs": [],
   "source": [
    "#for i in image_tags:\n",
    "#    image_url=i['src']\n",
    "#    image_data=requests.get(image_url).content\n",
    "#    with open(os.path.join(save_dir,f\"{query}_{image_tags.index(i)}.jpg\"),\"wb\") as f:\n",
    "#        f.write(image_data)"
   ]
  },
  {
   "cell_type": "code",
   "execution_count": 136,
   "id": "f84f58d6-f41c-4437-b7a2-74eb5e687e7c",
   "metadata": {},
   "outputs": [],
   "source": [
    "for index, image_tag in enumerate(image_tags):\n",
    "    image_url = image_tag['src']\n",
    "\n",
    "    # If the image URL is relative, join it with the base URL\n",
    "    if not image_url.startswith(('http:', 'https:')):\n",
    "        # Assuming base_url is the base URL of the page\n",
    "        base_url = 'https://example.com'  # Replace with the actual base URL\n",
    "        image_url = urljoin(base_url, image_url)\n",
    "\n",
    "    image_data = requests.get(image_url).content\n",
    "\n",
    "    # Generate a unique filename using the index and a hash of the image data\n",
    "    images = f\"{query}_{index}_{hash(image_data)}.jpg\"\n",
    "    \n",
    "    # Join the save directory and filename\n",
    "    filepath = os.path.join(save_dir, images)\n",
    "\n",
    "    with open(filepath, \"wb\") as f:\n",
    "        f.write(image_data)"
   ]
  },
  {
   "cell_type": "code",
   "execution_count": null,
   "id": "191862c6-7730-4ea3-8589-867cab78217e",
   "metadata": {},
   "outputs": [],
   "source": []
  }
 ],
 "metadata": {
  "kernelspec": {
   "display_name": "Python 3 (ipykernel)",
   "language": "python",
   "name": "python3"
  },
  "language_info": {
   "codemirror_mode": {
    "name": "ipython",
    "version": 3
   },
   "file_extension": ".py",
   "mimetype": "text/x-python",
   "name": "python",
   "nbconvert_exporter": "python",
   "pygments_lexer": "ipython3",
   "version": "3.11.5"
  }
 },
 "nbformat": 4,
 "nbformat_minor": 5
}
